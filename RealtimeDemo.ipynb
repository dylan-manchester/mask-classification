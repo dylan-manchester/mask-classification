{
 "cells": [
  {
   "cell_type": "code",
   "execution_count": 1,
   "metadata": {
    "gather": {
     "logged": 1615216381849
    }
   },
   "outputs": [],
   "source": [
    "# Import Packages\n",
    "import numpy as np\n",
    "import cv2\n",
    "from tensorflow import keras\n",
    "import h5py"
   ]
  },
  {
   "cell_type": "code",
   "execution_count": 2,
   "metadata": {},
   "outputs": [],
   "source": [
    "def FindFaces_DNN(img, model):\n",
    "    faces = []\n",
    "    (h, w) = img.shape[:2]\n",
    "    blob = cv2.dnn.blobFromImage(cv2.resize(img, (300, 300)), 1.0, (300, 300), (104.0, 177.0, 123.0))\n",
    "    model.setInput(blob)\n",
    "    detections = model.forward()\n",
    "    for i in range(0, detections.shape[2]):\n",
    "        confidence = detections[0, 0, i, 2]\n",
    "        if confidence > .75:\n",
    "            box = detections[0, 0, i, 3:7] * np.array([w, h, w, h])\n",
    "            faces.append(box.astype(\"int\"))\n",
    "    return faces"
   ]
  },
  {
   "cell_type": "code",
   "execution_count": 3,
   "metadata": {},
   "outputs": [],
   "source": [
    "def FindFaces_HCC(img,model):\n",
    "    faces = []\n",
    "    detections = model.detectMultiScale(img,scaleFactor=1.1,minNeighbors=3)\n",
    "    for detection in detections:\n",
    "        xmin = int(detection[0])\n",
    "        ymin = int(detection[1])\n",
    "        width = int(detection[2])\n",
    "        height = int(detection[3])\n",
    "        xmax = xmin+width\n",
    "        ymax = ymin+height\n",
    "        faces.append((xmin,ymin,xmax,ymax))\n",
    "    return faces"
   ]
  },
  {
   "cell_type": "code",
   "execution_count": 14,
   "metadata": {},
   "outputs": [],
   "source": [
    "def ClassifyFace_CNN(img, model):\n",
    "    resized = cv2.resize(img,(32,32))\n",
    "    scaledInput = resized/255.0\n",
    "    test = np.stack([scaledInput])\n",
    "    prediction = model.predict(test)\n",
    "    return prediction[0][0]<0.3"
   ]
  },
  {
   "cell_type": "code",
   "execution_count": 11,
   "metadata": {
    "gather": {
     "logged": 1615216505030
    },
    "jupyter": {
     "outputs_hidden": false,
     "source_hidden": false
    },
    "nteract": {
     "transient": {
      "deleting": false
     }
    }
   },
   "outputs": [],
   "source": [
    "# Mask Detection Function\n",
    "def MaskDetectionVideo(img,findFaces,detector,classifyFace,classifier):\n",
    "    for (xmin, ymin, xmax, ymax) in findFaces(img,detector):\n",
    "        face = img[ymin:ymax, xmin:xmax]\n",
    "        prediction = classifyFace(face,classifier)\n",
    "        color = [0,0,255] if prediction else [0,255,0]\n",
    "        cv2.rectangle(img,(xmin,ymin),(xmax,ymax),color,2)\n",
    "        text = \"PLEASE PUT YOUR MASK ON!\" if prediction else \"Thank you for wearing a mask!\"\n",
    "        y = ymin - 10 if ymin - 10 > 10 else ymin + 10\n",
    "        cv2.putText(img, text, (xmin, y), cv2.FONT_HERSHEY_SIMPLEX, 0.45, color, 2)\n",
    "    return img"
   ]
  },
  {
   "cell_type": "code",
   "execution_count": 15,
   "metadata": {
    "jupyter": {
     "outputs_hidden": false,
     "source_hidden": false
    },
    "nteract": {
     "transient": {
      "deleting": false
     }
    }
   },
   "outputs": [],
   "source": [
    "# Real-time Demo\n",
    "\n",
    "## Deep Neural Network Detection\n",
    "FindFaces = FindFaces_DNN\n",
    "detector = cv2.dnn.readNetFromCaffe(\"./Data/models/deploy.prototxt.txt\", \"./Data/models/classifier.caffemodel\")\n",
    "\n",
    "## Haar Cascade Classifier Detection - Fast but detects many false positives\n",
    "# FindFaces = FindFaces_HCC\n",
    "# detector = cv2.CascadeClassifier(\"./Data/models/haarcascade_frontalface_default.xml\")  \n",
    "\n",
    "# Custom Convolutional Neural Network Classification\n",
    "ClassifyFaces = ClassifyFace_CNN\n",
    "classifier=keras.models.load_model(\"./Data/models/model.h5\")\n",
    "\n",
    "vid = cv2.VideoCapture(0) \n",
    "while(True): \n",
    "    ret, frame = vid.read() \n",
    "    classified = MaskDetectionVideo(frame,FindFaces,detector,ClassifyFaces,classifier)\n",
    "    cv2.imshow('frame', classified)\n",
    "    if cv2.waitKey(1) & 0xFF == ord('q'): \n",
    "        break\n",
    "vid.release() \n",
    "cv2.destroyAllWindows() "
   ]
  }
 ],
 "metadata": {
  "kernel_info": {
   "name": "python3-azureml"
  },
  "kernelspec": {
   "display_name": "Python 3",
   "language": "python",
   "name": "python3"
  },
  "language_info": {
   "codemirror_mode": {
    "name": "ipython",
    "version": 3
   },
   "file_extension": ".py",
   "mimetype": "text/x-python",
   "name": "python",
   "nbconvert_exporter": "python",
   "pygments_lexer": "ipython3",
   "version": "3.8.8"
  },
  "microsoft": {
   "host": {
    "AzureML": {
     "notebookHasBeenCompleted": true
    }
   }
  },
  "nteract": {
   "version": "nteract-front-end@1.0.0"
  }
 },
 "nbformat": 4,
 "nbformat_minor": 2
}
