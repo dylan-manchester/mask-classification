{
 "cells": [
  {
   "cell_type": "markdown",
   "metadata": {
    "nteract": {
     "transient": {
      "deleting": false
     }
    }
   },
   "source": [
    "# Detection and Classification of People With and Without Masks in Images\n",
    "## Preprocessing"
   ]
  },
  {
   "cell_type": "code",
   "execution_count": null,
   "metadata": {
    "gather": {
     "logged": 1614960280645
    }
   },
   "outputs": [],
   "source": [
    "# Import Packages\n",
    "import os\n",
    "import re\n",
    "import pandas as pd\n",
    "from bs4 import BeautifulSoup as soup\n",
    "from PIL import Image"
   ]
  },
  {
   "cell_type": "code",
   "execution_count": null,
   "metadata": {
    "gather": {
     "logged": 1614960280712
    },
    "jupyter": {
     "outputs_hidden": false,
     "source_hidden": false
    },
    "nteract": {
     "transient": {
      "deleting": false
     }
    }
   },
   "outputs": [],
   "source": [
    "# Annotation Extraction Function\n",
    "def Extract(path):\n",
    "    # Safely open annotation\n",
    "    with open(path) as annotation:\n",
    "        # Read annotation with Beautiful Soup\n",
    "        rawXML = annotation.read()\n",
    "        bsXML = soup(rawXML,\"xml\")\n",
    "\n",
    "        # Stores image metadata in variables\n",
    "        size = bsXML.find('size')\n",
    "        index =int(re.search(r'\\d+',path).group())\n",
    "        width = int(size.find('width').get_text())\n",
    "        height = int(size.find('height').get_text())\n",
    "        depth = int(size.find('depth').get_text())\n",
    "\n",
    "        # Stores labels in a list of dictionaries\n",
    "        faces = []\n",
    "        objects = bsXML.find_all('object')\n",
    "        for face in objects:\n",
    "            labels={}\n",
    "            labels['index'] = index\n",
    "            labels['width'] = width\n",
    "            labels['height'] = height\n",
    "            labels['depth'] = depth\n",
    "            labels['label'] = face.find('name').get_text()\n",
    "            labels['xmin'] = int(face.find('xmin').get_text())\n",
    "            labels['xmax'] = int(face.find('xmax').get_text())\n",
    "            labels['ymin'] = int(face.find('ymin').get_text())\n",
    "            labels['ymax'] = int(face.find('ymax').get_text())\n",
    "            faces.append(labels)\n",
    "        return faces"
   ]
  },
  {
   "cell_type": "code",
   "execution_count": null,
   "metadata": {
    "gather": {
     "logged": 1614960280840
    },
    "jupyter": {
     "outputs_hidden": false,
     "source_hidden": false
    },
    "nteract": {
     "transient": {
      "deleting": false
     }
    }
   },
   "outputs": [],
   "source": [
    "# Collect Images\n",
    "imagePath = \"./Data/images/\"\n",
    "imageList = [[int(re.search(r'\\d+',f).group()),os.path.join(imagePath,f)] for f in os.listdir(imagePath) if os.path.isfile(os.path.join(imagePath,f))]\n",
    "images = pd.DataFrame(imageList,columns=['index','path']).set_index('index')"
   ]
  },
  {
   "cell_type": "code",
   "execution_count": null,
   "metadata": {
    "gather": {
     "logged": 1614960352039
    },
    "jupyter": {
     "outputs_hidden": false,
     "source_hidden": false
    },
    "nteract": {
     "transient": {
      "deleting": false
     }
    }
   },
   "outputs": [],
   "source": [
    "# Collect Labels\n",
    "annotationPath = \"./Data/annotations/\"\n",
    "labelList = [x for f in os.listdir(annotationPath) for x in Extract(os.path.join(annotationPath,f))]\n",
    "labels = pd.DataFrame(labelList)"
   ]
  },
  {
   "cell_type": "code",
   "execution_count": null,
   "metadata": {
    "gather": {
     "logged": 1614960352225
    },
    "jupyter": {
     "outputs_hidden": false,
     "source_hidden": false
    },
    "nteract": {
     "transient": {
      "deleting": false
     }
    }
   },
   "outputs": [],
   "source": [
    "# Find and remove labels with incorrectly worn mask label or faces smaller than 16x16\n",
    "exclude = labels[(labels['label']=='mask_weared_incorrect') | (labels['xmax']-labels['xmin']<16) | (labels['xmax']-labels['xmin']<16)].index\n",
    "labels.drop(exclude,inplace=True)\n",
    "labels = labels.set_index('index')\n",
    "images = images.loc[labels.index.unique()]"
   ]
  },
  {
   "cell_type": "code",
   "execution_count": null,
   "metadata": {
    "gather": {
     "logged": 1614961173602
    },
    "jupyter": {
     "outputs_hidden": false,
     "source_hidden": false
    },
    "nteract": {
     "transient": {
      "deleting": false
     }
    }
   },
   "outputs": [],
   "source": [
    "# Move balanced images to Train (300 with / 300 without) & Validation (100 with / 100 without) Directories\n",
    "train_with = 0\n",
    "train_without = 0\n",
    "test_with = 0\n",
    "test_without = 0\n",
    "for idx, path in images['path'].iteritems():\n",
    "    with Image.open(path) as im:\n",
    "        imRGB = im.convert('RGB')\n",
    "        imGRAY = imRGB.convert('L')\n",
    "        l = labels.loc[[idx]]\n",
    "        for i in range(len(l)):\n",
    "            savePath=None\n",
    "            tindex = str(idx)+\"_\"+str(i)\n",
    "            c = imGRAY.crop((l.iloc[i]['xmin'],l.iloc[i]['ymin'],l.iloc[i]['xmax'],l.iloc[i]['ymax']))\n",
    "            if l.iloc[i]['label']=='with_mask':\n",
    "                if train_with<300:\n",
    "                    savePath = \"./Data/train/with_mask/\"+tindex+\".jpg\"\n",
    "                    train_with+=1\n",
    "                elif train_without<100:\n",
    "                    savePath = \"./Data/validation/with_mask/\"+tindex+\".jpg\"\n",
    "                    train_without+=1\n",
    "            else:\n",
    "                if test_with<300:\n",
    "                    savePath = \"./Data/train/without_mask/\"+tindex+\".jpg\"\n",
    "                    test_with+=1\n",
    "                elif test_without<100:\n",
    "                    savePath = \"./Data/validation/without_mask/\"+tindex+\".jpg\"\n",
    "                    test_without+=1\n",
    "            if savePath:\n",
    "                c.save(savePath)"
   ]
  }
 ],
 "metadata": {
  "kernel_info": {
   "name": "python3-azureml"
  },
  "kernelspec": {
   "display_name": "Python 3",
   "language": "python",
   "name": "python3"
  },
  "language_info": {
   "codemirror_mode": {
    "name": "ipython",
    "version": 3
   },
   "file_extension": ".py",
   "mimetype": "text/x-python",
   "name": "python",
   "nbconvert_exporter": "python",
   "pygments_lexer": "ipython3",
   "version": "3.8.8"
  },
  "microsoft": {
   "host": {
    "AzureML": {
     "notebookHasBeenCompleted": true
    }
   }
  },
  "nteract": {
   "version": "nteract-front-end@1.0.0"
  }
 },
 "nbformat": 4,
 "nbformat_minor": 2
}
