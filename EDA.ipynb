{
 "cells": [
  {
   "cell_type": "markdown",
   "metadata": {
    "nteract": {
     "transient": {
      "deleting": false
     }
    }
   },
   "source": [
    "# Detection and Classification of People With and Without Masks in Images\n",
    "## Exploratory Data Analysis"
   ]
  },
  {
   "cell_type": "code",
   "execution_count": null,
   "metadata": {
    "gather": {
     "logged": 1614824817587
    },
    "jupyter": {
     "outputs_hidden": false,
     "source_hidden": false
    },
    "nteract": {
     "transient": {
      "deleting": false
     }
    }
   },
   "outputs": [],
   "source": [
    "# Import Packages\n",
    "import os\n",
    "import re\n",
    "import tensorflow as tf\n",
    "import pandas as pd\n",
    "\n",
    "from bs4 import BeautifulSoup as soup\n",
    "from PIL import Image\n",
    "\n",
    "import matplotlib.pyplot as plot\n",
    "import matplotlib.patches as patches\n",
    "\n"
   ]
  },
  {
   "cell_type": "code",
   "execution_count": null,
   "metadata": {
    "gather": {
     "logged": 1614824817945
    },
    "jupyter": {
     "outputs_hidden": false,
     "source_hidden": false
    },
    "nteract": {
     "transient": {
      "deleting": false
     }
    }
   },
   "outputs": [],
   "source": [
    "# Sample Image\n",
    "with Image.open(\"./Data/images/maksssksksss0.png\") as rawImage:\n",
    "    display(rawImage)\n"
   ]
  },
  {
   "cell_type": "code",
   "execution_count": null,
   "metadata": {
    "gather": {
     "logged": 1614824817979
    },
    "jupyter": {
     "outputs_hidden": false,
     "source_hidden": false
    },
    "nteract": {
     "transient": {
      "deleting": false
     }
    }
   },
   "outputs": [],
   "source": [
    "# Sample Annotation\n",
    "with open(\"./Data/annotations/maksssksksss0.xml\") as annotation:\n",
    "    rawXML = annotation.read()\n",
    "    print(rawXML)\n"
   ]
  },
  {
   "cell_type": "code",
   "execution_count": null,
   "metadata": {
    "gather": {
     "logged": 1614824818012
    },
    "jupyter": {
     "outputs_hidden": false,
     "source_hidden": false
    },
    "nteract": {
     "transient": {
      "deleting": false
     }
    }
   },
   "outputs": [],
   "source": [
    "# Data Extraction Function\n",
    "def Extract(path):\n",
    "    # Safely open annotation\n",
    "    with open(path) as annotation:\n",
    "        # Read annotation with Beautiful Soup\n",
    "        rawXML = annotation.read()\n",
    "        bsXML = soup(rawXML,\"xml\")\n",
    "\n",
    "        # Stores Metadata in a Dictionary\n",
    "        meta = {}\n",
    "        size = bsXML.find('size')\n",
    "        meta['index']=int(re.search(r'\\d+',path).group())\n",
    "        meta['width'] = int(size.find('width').get_text())\n",
    "        meta['height'] = int(size.find('height').get_text())\n",
    "        meta['depth'] = int(size.find('depth').get_text())\n",
    "\n",
    "        # Stores Labels in a List of Dictionaries\n",
    "        faces = []\n",
    "        objects = bsXML.find_all('object')\n",
    "        for face in objects:\n",
    "            labels={}\n",
    "            labels['index']=meta['index']\n",
    "            labels['label'] = face.find('name').get_text()\n",
    "            labels['pose'] = face.find('pose').get_text()\n",
    "            labels['truncated'] = int(face.find('truncated').get_text())\n",
    "            labels['occluded'] = int(face.find('occluded').get_text())\n",
    "            labels['difficult'] = int(face.find('difficult').get_text())\n",
    "            labels['xmin'] = int(face.find('xmin').get_text())\n",
    "            labels['xmax'] = int(face.find('xmax').get_text())\n",
    "            labels['ymin'] = int(face.find('ymin').get_text())\n",
    "            labels['ymax'] = int(face.find('ymax').get_text())\n",
    "            faces.append(labels)\n",
    "        return(meta,faces)"
   ]
  },
  {
   "cell_type": "code",
   "execution_count": null,
   "metadata": {
    "gather": {
     "logged": 1614824818058
    },
    "jupyter": {
     "outputs_hidden": false,
     "source_hidden": false
    },
    "nteract": {
     "transient": {
      "deleting": false
     }
    }
   },
   "outputs": [],
   "source": [
    "# Extract data from sample\n",
    "meta,faces = Extract(\"./Data/annotations/maksssksksss0.xml\")\n",
    "print(\"Metadata: \")\n",
    "print(meta)\n",
    "print(\"Face Objects: \")\n",
    "print(faces)"
   ]
  },
  {
   "cell_type": "code",
   "execution_count": null,
   "metadata": {
    "gather": {
     "logged": 1614824818302
    },
    "jupyter": {
     "outputs_hidden": false,
     "source_hidden": false
    },
    "nteract": {
     "transient": {
      "deleting": false
     }
    }
   },
   "outputs": [],
   "source": [
    "# Show labels on Image\n",
    "with Image.open(\"./Data/images/maksssksksss0.png\") as rawImage:\n",
    "    figure, axis = plot.subplots()\n",
    "    axis.imshow(rawImage)\n",
    "    meta,objects = Extract(\"./Data/annotations/maksssksksss0.xml\")\n",
    "    for face in objects:\n",
    "        color = 'green' if face['label']=='with_mask' else 'red'\n",
    "        corner = (face['xmin'],face['ymin'])\n",
    "        width = face['xmax']-face['xmin']\n",
    "        height = face['ymax']-face['ymin']\n",
    "        rect = patches.Rectangle(corner, width, height, linewidth=2, edgecolor=color, facecolor='none')\n",
    "        axis.add_patch(rect)\n",
    "    plot.show()"
   ]
  },
  {
   "cell_type": "code",
   "execution_count": null,
   "metadata": {
    "gather": {
     "logged": 1614824869560
    },
    "jupyter": {
     "outputs_hidden": false,
     "source_hidden": false
    },
    "nteract": {
     "transient": {
      "deleting": false
     }
    }
   },
   "outputs": [],
   "source": [
    "# Collect Samples\n",
    "imagePath = \"./Data/images/\"\n",
    "imagesList = [[int(re.search(r'\\d+',os.path.join(imagePath,f)).group()),os.path.join(imagePath,f)] for f in os.listdir(imagePath) if os.path.isfile(os.path.join(imagePath,f))]\n",
    "images = pd.DataFrame(imagesList,columns=['index','path']).set_index('index')\n",
    "\n",
    "# Collect Labels\n",
    "annotationpath = \"./Data/annotations/\"\n",
    "metaList=[]\n",
    "facesList=[]\n",
    "for f in os.listdir(annotationpath):\n",
    "    path = os.path.join(annotationpath,f)\n",
    "    meta, faces = Extract(path)\n",
    "    metaList.append(meta)\n",
    "    facesList=facesList+faces\n",
    "meta = pd.DataFrame(metaList).set_index('index')\n",
    "labels = pd.DataFrame(facesList).set_index('index')"
   ]
  },
  {
   "cell_type": "code",
   "execution_count": null,
   "metadata": {
    "gather": {
     "logged": 1614824869636
    },
    "jupyter": {
     "outputs_hidden": false,
     "source_hidden": false
    },
    "nteract": {
     "transient": {
      "deleting": false
     }
    }
   },
   "outputs": [],
   "source": [
    "# Metadata Summary Statistics\n",
    "meta.describe()"
   ]
  },
  {
   "cell_type": "code",
   "execution_count": null,
   "metadata": {
    "gather": {
     "logged": 1614824869807
    },
    "jupyter": {
     "outputs_hidden": false,
     "source_hidden": false
    },
    "nteract": {
     "transient": {
      "deleting": false
     }
    }
   },
   "outputs": [],
   "source": [
    "# Explore Image Sizes\n",
    "groupedMeta = meta.groupby(['height', 'width']).size().reset_index().rename(columns={0:'count'})\n",
    "print(\"Most images of the same size:\")\n",
    "print(groupedMeta[groupedMeta['count']==groupedMeta['count'].max()])\n",
    "plot.scatter(groupedMeta['width'],groupedMeta['height'],c='darkblue',s=3*groupedMeta['count'])\n",
    "plot.xlabel('width (pixels)')\n",
    "plot.ylabel('height (pixels)')\n",
    "plot.title('Sizes of Images in Dataset')\n",
    "plot.show()"
   ]
  },
  {
   "cell_type": "code",
   "execution_count": null,
   "metadata": {
    "gather": {
     "logged": 1614824869853
    },
    "jupyter": {
     "outputs_hidden": false,
     "source_hidden": false
    },
    "nteract": {
     "transient": {
      "deleting": false
     }
    }
   },
   "outputs": [],
   "source": [
    "# Labels Summary Statistics\n",
    "nlabels = len(labels)\n",
    "nWithMask = len(labels[labels['label']=='with_mask'])\n",
    "nWithoutMask = len(labels[labels['label']=='without_mask'])\n",
    "nIncorrectMask = len(labels[labels['label']=='mask_weared_incorrect'])\n",
    "nOther = nlabels - nWithMask - nWithoutMask - nIncorrectMask\n",
    "labelTable = pd.DataFrame([\n",
    "    [\"With\",\"{:.1f}\".format(100*nWithMask/nlabels)+'%'],\n",
    "    [\"Without\",\"{:.1f}\".format(100*nWithoutMask/nlabels)+\"%\"],\n",
    "    [\"Incorrect\",\"{:.1f}\".format(100*nIncorrectMask/nlabels)+\"%\"]],columns=[\"Mask Label\",\"Label Classifications (\"+str(nlabels)+\" Total Labels)\"]).set_index(\"Mask Label\")\n",
    "labelTable"
   ]
  },
  {
   "cell_type": "code",
   "execution_count": null,
   "metadata": {
    "gather": {
     "logged": 1614824869975
    },
    "jupyter": {
     "outputs_hidden": false,
     "source_hidden": false
    },
    "nteract": {
     "transient": {
      "deleting": false
     }
    }
   },
   "outputs": [],
   "source": [
    "# Explore Number of Labels per Image\n",
    "groupedLabels = labels.groupby(by='index').size()\n",
    "plot.hist(groupedLabels,bins=25,color='teal')\n",
    "plot.xlabel('Labels in Image')\n",
    "plot.ylabel('Number of Images')\n",
    "plot.title('Distribution of Labels in Images')\n",
    "plot.show()"
   ]
  },
  {
   "cell_type": "code",
   "execution_count": null,
   "metadata": {
    "gather": {
     "logged": 1614824870025
    },
    "jupyter": {
     "outputs_hidden": false,
     "source_hidden": false
    },
    "nteract": {
     "transient": {
      "deleting": false
     }
    }
   },
   "outputs": [],
   "source": [
    "# Look into other label variables\n",
    "print(labels.groupby(by='pose').size())\n",
    "labels.describe()"
   ]
  }
 ],
 "metadata": {
  "kernel_info": {
   "name": "python3-azureml"
  },
  "kernelspec": {
   "display_name": "Python 3",
   "language": "python",
   "name": "python3"
  },
  "language_info": {
   "codemirror_mode": {
    "name": "ipython",
    "version": 3
   },
   "file_extension": ".py",
   "mimetype": "text/x-python",
   "name": "python",
   "nbconvert_exporter": "python",
   "pygments_lexer": "ipython3",
   "version": "3.8.8"
  },
  "microsoft": {
   "host": {
    "AzureML": {
     "notebookHasBeenCompleted": true
    }
   }
  },
  "nteract": {
   "version": "nteract-front-end@1.0.0"
  }
 },
 "nbformat": 4,
 "nbformat_minor": 2
}
