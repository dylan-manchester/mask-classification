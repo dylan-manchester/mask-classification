{
 "cells": [
  {
   "cell_type": "code",
   "execution_count": 28,
   "id": "c8aad346",
   "metadata": {},
   "outputs": [],
   "source": [
    "from tensorflow import keras\n",
    "from tensorflow.keras.preprocessing.image import ImageDataGenerator\n",
    "import h5py"
   ]
  },
  {
   "cell_type": "code",
   "execution_count": 29,
   "id": "eeeec189",
   "metadata": {},
   "outputs": [],
   "source": [
    "# Define Model\n",
    "model = keras.models.Sequential([\n",
    "keras.layers.Conv2D(16, (3,3), activation='relu', input_shape=(32, 32, 3)),\n",
    "keras.layers.MaxPooling2D(2, 2),\n",
    "    \n",
    "keras.layers.Conv2D(32, (3,3), activation='relu'),\n",
    "keras.layers.MaxPooling2D(2,2),\n",
    "    \n",
    "keras.layers.Conv2D(64, (3,3), activation='relu'),\n",
    "keras.layers.MaxPooling2D(2,2),\n",
    "keras.layers.Flatten(),\n",
    "\n",
    "keras.layers.Dense(512, activation='relu'),\n",
    "\n",
    "keras.layers.Dense(1, activation='sigmoid')\n",
    "])\n",
    "\n",
    "model.compile(optimizer='rmsprop',\n",
    "              loss='binary_crossentropy',\n",
    "              metrics=['accuracy'])"
   ]
  },
  {
   "cell_type": "code",
   "execution_count": 22,
   "id": "e8d403af",
   "metadata": {},
   "outputs": [
    {
     "name": "stdout",
     "output_type": "stream",
     "text": [
      "Found 1920 images belonging to 2 classes.\n",
      "Found 817 images belonging to 2 classes.\n"
     ]
    }
   ],
   "source": [
    "train = ImageDataGenerator(rescale=1/255)\n",
    "test = ImageDataGenerator(rescale=1/255)\n",
    "\n",
    "train_dataset = train.flow_from_directory(\"./Data/train\",\n",
    "                                          target_size=(32,32),\n",
    "                                          batch_size = 32,\n",
    "                                          class_mode = 'binary')\n",
    "                                         \n",
    "test_dataset = test.flow_from_directory(\"./Data/validation\",\n",
    "                                          target_size=(32,32),\n",
    "                                          batch_size =32,\n",
    "                                          class_mode = 'binary')\n"
   ]
  },
  {
   "cell_type": "code",
   "execution_count": 23,
   "id": "d17806bd",
   "metadata": {},
   "outputs": [
    {
     "name": "stdout",
     "output_type": "stream",
     "text": [
      "Epoch 1/10\n",
      "50/50 [==============================] - 8s 140ms/step - loss: 0.3027 - accuracy: 0.8562 - val_loss: 0.1383 - val_accuracy: 0.9657\n",
      "Epoch 2/10\n",
      "50/50 [==============================] - 2s 48ms/step - loss: 0.1780 - accuracy: 0.9306 - val_loss: 0.1865 - val_accuracy: 0.9278\n",
      "Epoch 3/10\n",
      "50/50 [==============================] - 2s 49ms/step - loss: 0.1533 - accuracy: 0.9394 - val_loss: 0.1003 - val_accuracy: 0.9645\n",
      "Epoch 4/10\n",
      "50/50 [==============================] - 3s 51ms/step - loss: 0.1195 - accuracy: 0.9550 - val_loss: 0.1021 - val_accuracy: 0.9682\n",
      "Epoch 5/10\n",
      "50/50 [==============================] - 2s 49ms/step - loss: 0.1165 - accuracy: 0.9575 - val_loss: 0.0926 - val_accuracy: 0.9706\n",
      "Epoch 6/10\n",
      "50/50 [==============================] - 3s 51ms/step - loss: 0.1096 - accuracy: 0.9619 - val_loss: 0.0935 - val_accuracy: 0.9694\n",
      "Epoch 7/10\n",
      "50/50 [==============================] - 2s 49ms/step - loss: 0.0899 - accuracy: 0.9656 - val_loss: 0.2151 - val_accuracy: 0.9412\n",
      "Epoch 8/10\n",
      "50/50 [==============================] - 2s 50ms/step - loss: 0.0904 - accuracy: 0.9744 - val_loss: 0.1132 - val_accuracy: 0.9584\n",
      "Epoch 9/10\n",
      "50/50 [==============================] - 3s 58ms/step - loss: 0.0731 - accuracy: 0.9737 - val_loss: 0.0974 - val_accuracy: 0.9694\n",
      "Epoch 10/10\n",
      "50/50 [==============================] - 3s 55ms/step - loss: 0.0789 - accuracy: 0.9719 - val_loss: 0.0897 - val_accuracy: 0.9706\n"
     ]
    },
    {
     "data": {
      "text/plain": [
       "<keras.callbacks.History at 0x15dcf38f820>"
      ]
     },
     "execution_count": 23,
     "metadata": {},
     "output_type": "execute_result"
    }
   ],
   "source": [
    "model.fit(train_dataset,\n",
    "         steps_per_epoch = 50,\n",
    "         epochs = 10,\n",
    "         validation_data = test_dataset)"
   ]
  },
  {
   "cell_type": "code",
   "execution_count": 27,
   "id": "eefe308c",
   "metadata": {},
   "outputs": [],
   "source": [
    "model.save(\"./Data/models/model.h5\")"
   ]
  }
 ],
 "metadata": {
  "kernelspec": {
   "display_name": "Python 3",
   "language": "python",
   "name": "python3"
  },
  "language_info": {
   "codemirror_mode": {
    "name": "ipython",
    "version": 3
   },
   "file_extension": ".py",
   "mimetype": "text/x-python",
   "name": "python",
   "nbconvert_exporter": "python",
   "pygments_lexer": "ipython3",
   "version": "3.8.8"
  }
 },
 "nbformat": 4,
 "nbformat_minor": 5
}
