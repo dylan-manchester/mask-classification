{
 "cells": [
  {
   "cell_type": "markdown",
   "id": "a1515786",
   "metadata": {},
   "source": [
    "# Detection and Classification of People With and Without Masks in Images\n",
    "## Training a Custom Classifier"
   ]
  },
  {
   "cell_type": "code",
   "execution_count": null,
   "id": "c8aad346",
   "metadata": {},
   "outputs": [],
   "source": [
    "from tensorflow import keras\n",
    "from tensorflow.keras.preprocessing.image import ImageDataGenerator\n",
    "import h5py"
   ]
  },
  {
   "cell_type": "code",
   "execution_count": null,
   "id": "eeeec189",
   "metadata": {},
   "outputs": [],
   "source": [
    "# Define Model\n",
    "model = keras.models.Sequential([\n",
    "keras.layers.Conv2D(16, (3,3), activation='relu', input_shape=(32, 32,1)),\n",
    "keras.layers.MaxPooling2D(2, 2),\n",
    "    \n",
    "keras.layers.Conv2D(16, (3,3), activation='relu'),\n",
    "keras.layers.MaxPooling2D(2,2),\n",
    "    \n",
    "keras.layers.Conv2D(32, (3,3), activation='relu'),\n",
    "keras.layers.MaxPooling2D(2,2),\n",
    "keras.layers.Flatten(),\n",
    "keras.layers.Dropout(0.5),\n",
    "\n",
    "keras.layers.Dense(128, activation='relu'),\n",
    "\n",
    "keras.layers.Dense(2, activation='sigmoid')\n",
    "])\n",
    "\n",
    "# Compile Model\n",
    "model.compile(optimizer='rmsprop',\n",
    "              loss='binary_crossentropy',\n",
    "              metrics=['accuracy'])"
   ]
  },
  {
   "cell_type": "code",
   "execution_count": null,
   "id": "e8d403af",
   "metadata": {},
   "outputs": [],
   "source": [
    "# Gather Training and Validation Data\n",
    "train = ImageDataGenerator(rescale=1/255)\n",
    "test = ImageDataGenerator(rescale=1/255)\n",
    "\n",
    "train_dataset = train.flow_from_directory(\"./Data/train\",\n",
    "                                          target_size=(32,32),\n",
    "                                          color_mode=\"grayscale\",\n",
    "                                          shuffle=True,\n",
    "                                          batch_size = 16,\n",
    "                                          classes=['with_mask','without_mask'])\n",
    "                                         \n",
    "test_dataset = test.flow_from_directory(\"./Data/validation\",\n",
    "                                        target_size=(32,32),\n",
    "                                        color_mode=\"grayscale\",\n",
    "                                        shuffle=True,\n",
    "                                        batch_size = 16,\n",
    "                                        classes=['with_mask','without_mask'])"
   ]
  },
  {
   "cell_type": "code",
   "execution_count": null,
   "id": "d17806bd",
   "metadata": {},
   "outputs": [],
   "source": [
    "# Train and Save Model\n",
    "model.fit(train_dataset,\n",
    "          steps_per_epoch = 25,\n",
    "          epochs = 20,\n",
    "          validation_data = test_dataset)\n",
    "model.save(\"./Data/models/classifier.h5\")"
   ]
  }
 ],
 "metadata": {
  "kernelspec": {
   "display_name": "Python 3",
   "language": "python",
   "name": "python3"
  },
  "language_info": {
   "codemirror_mode": {
    "name": "ipython",
    "version": 3
   },
   "file_extension": ".py",
   "mimetype": "text/x-python",
   "name": "python",
   "nbconvert_exporter": "python",
   "pygments_lexer": "ipython3",
   "version": "3.8.8"
  }
 },
 "nbformat": 4,
 "nbformat_minor": 5
}
