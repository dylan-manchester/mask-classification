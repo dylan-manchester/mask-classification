{
  "cells": [
    {
      "cell_type": "markdown",
      "source": [
        "# Detection and Classification of People With and Without Masks in Images\r\n",
        "## Preprocessing"
      ],
      "metadata": {
        "nteract": {
          "transient": {
            "deleting": false
          }
        }
      }
    },
    {
      "cell_type": "code",
      "source": [
        "# Import Packages\r\n",
        "import os\r\n",
        "import re\r\n",
        "import numpy as np\r\n",
        "import pandas as pd\r\n",
        "from bs4 import BeautifulSoup as soup\r\n",
        "from PIL import Image\r\n",
        "import cv2"
      ],
      "outputs": [],
      "execution_count": 1,
      "metadata": {
        "gather": {
          "logged": 1614960280645
        }
      }
    },
    {
      "cell_type": "code",
      "source": [
        "# Annotation Extraction Function\r\n",
        "def Extract(path):\r\n",
        "    # Safely open annotation\r\n",
        "    with open(path) as annotation:\r\n",
        "        # Read annotation with Beautiful Soup\r\n",
        "        rawXML = annotation.read()\r\n",
        "        bsXML = soup(rawXML,\"xml\")\r\n",
        "\r\n",
        "        # Stores image metadata in variables\r\n",
        "        size = bsXML.find('size')\r\n",
        "        index =int(re.search(r'\\d+',path).group())\r\n",
        "        width = int(size.find('width').get_text())\r\n",
        "        height = int(size.find('height').get_text())\r\n",
        "        depth = int(size.find('depth').get_text())\r\n",
        "\r\n",
        "        # Stores labels in a list of dictionaries\r\n",
        "        faces = []\r\n",
        "        objects = bsXML.find_all('object')\r\n",
        "        n = len(objects)\r\n",
        "        for face in objects:\r\n",
        "            labels={}\r\n",
        "            labels['index'] = index\r\n",
        "            labels['width'] = width\r\n",
        "            labels['height'] = height\r\n",
        "            labels['depth'] = depth\r\n",
        "            labels['nObjects'] = n\r\n",
        "            labels['label'] = face.find('name').get_text()\r\n",
        "            labels['xmin'] = int(face.find('xmin').get_text())\r\n",
        "            labels['xmax'] = int(face.find('xmax').get_text())\r\n",
        "            labels['ymin'] = int(face.find('ymin').get_text())\r\n",
        "            labels['ymax'] = int(face.find('ymax').get_text())\r\n",
        "            faces.append(labels)\r\n",
        "        return faces"
      ],
      "outputs": [],
      "execution_count": 2,
      "metadata": {
        "collapsed": true,
        "jupyter": {
          "source_hidden": false,
          "outputs_hidden": false
        },
        "nteract": {
          "transient": {
            "deleting": false
          }
        },
        "gather": {
          "logged": 1614960280712
        }
      }
    },
    {
      "cell_type": "code",
      "source": [
        "# Collect Samples\r\n",
        "imagePath = \"../Data/images/\"\r\n",
        "imageList = [[int(re.search(r'\\d+',f).group()),os.path.join(imagePath,f)] for f in os.listdir(imagePath) if os.path.isfile(os.path.join(imagePath,f))]\r\n",
        "images = pd.DataFrame(imageList,columns=['index','path']).set_index('index')"
      ],
      "outputs": [],
      "execution_count": 3,
      "metadata": {
        "collapsed": true,
        "jupyter": {
          "source_hidden": false,
          "outputs_hidden": false
        },
        "nteract": {
          "transient": {
            "deleting": false
          }
        },
        "gather": {
          "logged": 1614960280840
        }
      }
    },
    {
      "cell_type": "code",
      "source": [
        "# Collect Labels\r\n",
        "annotationPath = \"../Data/annotations/\"\r\n",
        "labelList = [x for f in os.listdir(annotationPath) for x in Extract(os.path.join(annotationPath,f))]\r\n",
        "labels = pd.DataFrame(labelList).set_index('index')"
      ],
      "outputs": [],
      "execution_count": 4,
      "metadata": {
        "collapsed": true,
        "jupyter": {
          "source_hidden": false,
          "outputs_hidden": false
        },
        "nteract": {
          "transient": {
            "deleting": false
          }
        },
        "gather": {
          "logged": 1614960352039
        }
      }
    },
    {
      "cell_type": "code",
      "source": [
        "# Find and remove images with more than 20 labels or incorrectly worn mask labels\r\n",
        "exclude = labels[(labels['label']=='mask_weared_incorrect') | (labels['nObjects']>20)].index.unique()\r\n",
        "labels.drop(exclude,inplace=True)\r\n",
        "images.drop(exclude,inplace=True)"
      ],
      "outputs": [],
      "execution_count": 5,
      "metadata": {
        "collapsed": true,
        "jupyter": {
          "source_hidden": false,
          "outputs_hidden": false
        },
        "nteract": {
          "transient": {
            "deleting": false
          }
        },
        "gather": {
          "logged": 1614960352225
        }
      }
    },
    {
      "cell_type": "code",
      "source": [
        "# Resize images\r\n",
        "resizedI=[]\r\n",
        "resize_path = \"../Data/images400x400/maksssksksss\"\r\n",
        "for idx, image in images['path'].iteritems():\r\n",
        "    p = resize_path+str(idx)+\".jpg\"\r\n",
        "    with Image.open(image) as im:\r\n",
        "        imRGB = im.convert('RGB')\r\n",
        "        resize = imRGB.resize((400,400))\r\n",
        "        resize.save(p)\r\n",
        "    resizedI.append([idx,p])\r\n",
        "resizedImages = pd.DataFrame(resizedI, columns=['index','path']).set_index('index')"
      ],
      "outputs": [],
      "execution_count": 6,
      "metadata": {
        "collapsed": true,
        "jupyter": {
          "source_hidden": false,
          "outputs_hidden": false
        },
        "nteract": {
          "transient": {
            "deleting": false
          }
        },
        "gather": {
          "logged": 1614960606265
        }
      }
    },
    {
      "cell_type": "code",
      "source": [
        "# Resize labels\r\n",
        "x_scale = 400/labels['width']\r\n",
        "y_scale = 400/labels['height']\r\n",
        "resizedLabels = labels.copy()\r\n",
        "resizedLabels['xmin'] = x_scale*labels['xmin']\r\n",
        "resizedLabels['xmax'] = x_scale*labels['xmax']\r\n",
        "resizedLabels['ymin'] = y_scale*labels['ymin']\r\n",
        "resizedLabels['ymax'] = y_scale*labels['ymax']\r\n",
        "resizedLabels = resizedLabels.astype({'xmin':'int','xmax':'int','ymin':'int','ymax':'int'})\r\n"
      ],
      "outputs": [],
      "execution_count": 7,
      "metadata": {
        "collapsed": true,
        "jupyter": {
          "source_hidden": false,
          "outputs_hidden": false
        },
        "nteract": {
          "transient": {
            "deleting": false
          }
        },
        "gather": {
          "logged": 1614960606363
        }
      }
    },
    {
      "cell_type": "code",
      "source": [
        "# Extract and resize templates\r\n",
        "templates = []\r\n",
        "templatesResized = []\r\n",
        "for idx, path in images['path'].iteritems():\r\n",
        "    with Image.open(path) as im:\r\n",
        "        l = labels.loc[[idx]]\r\n",
        "        for i in range(len(l)):\r\n",
        "            tindex = str(idx)+\"_\"+str(i)\r\n",
        "            imRGB = im.convert('RGB')\r\n",
        "            c = imRGB.crop((l.iloc[i]['xmin'],l.iloc[i]['ymin'],l.iloc[i]['xmax'],l.iloc[i]['ymax']))\r\n",
        "            resize = c.resize((32,32))\r\n",
        "            tempPath = \"../Data/templates/maksssksksss\"+tindex+\".jpg\"\r\n",
        "            resizePath = \"../Data/templates32x32/maksssksksss\"+tindex+\".jpg\"\r\n",
        "            c.save(tempPath)\r\n",
        "            resize.save(resizePath)\r\n",
        "            templates.append([idx,i,l.iloc[i]['label'],tempPath])\r\n",
        "            templatesResized.append([idx,i,l.iloc[i]['label'],resizePath])\r\n",
        "templates = pd.DataFrame(templates,columns=['index','i','label','path']).set_index('index')\r\n",
        "resizedTemplates = pd.DataFrame(templatesResized,columns=['index','i','label','path']).set_index('index')"
      ],
      "outputs": [],
      "execution_count": 8,
      "metadata": {
        "collapsed": true,
        "jupyter": {
          "source_hidden": false,
          "outputs_hidden": false
        },
        "nteract": {
          "transient": {
            "deleting": false
          }
        },
        "gather": {
          "logged": 1614961173602
        }
      }
    },
    {
      "cell_type": "code",
      "source": [
        "# Train test split\r\n",
        "split = np.random.rand(len(images)) < 0.8\r\n",
        "trainImages = images[split]\r\n",
        "testImages = images[~split]\r\n",
        "trainLabels = labels.drop(testImages.index)\r\n",
        "testLabels = labels.drop(trainImages.index)\r\n",
        "\r\n",
        "trainImagesResized = resizedImages[split]\r\n",
        "testImagesResized = resizedImages[~split]\r\n",
        "trainLabelsResized = resizedLabels.drop(testImages.index)\r\n",
        "testLabelsResized = resizedLabels.drop(trainImages.index)\r\n",
        "\r\n",
        "trainTemplates = templates.drop(testImages.index)\r\n",
        "testTemplates = templates.drop(trainImages.index)\r\n",
        "\r\n",
        "trainTemplatesResized = resizedTemplates.drop(testImages.index)\r\n",
        "testTemplatesResized = resizedTemplates.drop(trainImages.index)"
      ],
      "outputs": [],
      "execution_count": 9,
      "metadata": {
        "collapsed": true,
        "jupyter": {
          "source_hidden": false,
          "outputs_hidden": false
        },
        "nteract": {
          "transient": {
            "deleting": false
          }
        },
        "gather": {
          "logged": 1614961173668
        }
      }
    },
    {
      "cell_type": "code",
      "source": [
        "# Write Dataframes to CSV\r\n",
        "processedPath = \"../Data/processed/\"\r\n",
        "\r\n",
        "trainImages.to_csv(processedPath+\"trainImages.csv\")\r\n",
        "testImages.to_csv(processedPath+\"testImages.csv\")\r\n",
        "trainLabels.to_csv(processedPath+\"trainLabels.csv\")\r\n",
        "testLabels.to_csv(processedPath+\"testLabels.csv\")\r\n",
        "\r\n",
        "trainImagesResized.to_csv(processedPath+\"trainImagesResized.csv\")\r\n",
        "testImagesResized.to_csv(processedPath+\"testImagesResized.csv\")\r\n",
        "trainLabelsResized.to_csv(processedPath+\"trainLabelsResized.csv\")\r\n",
        "testLabelsResized.to_csv(processedPath+\"testLabelsResized.csv\")\r\n",
        "\r\n",
        "trainTemplates.to_csv(processedPath+\"trainTemplates.csv\")\r\n",
        "testTemplates.to_csv(processedPath+\"testTemplates.csv\")\r\n",
        "\r\n",
        "trainTemplatesResized.to_csv(processedPath+\"trainTemplatesResized.csv\")\r\n",
        "testTemplatesResized.to_csv(processedPath+\"testTemplatesResized.csv\")"
      ],
      "outputs": [],
      "execution_count": 10,
      "metadata": {
        "collapsed": true,
        "jupyter": {
          "source_hidden": false,
          "outputs_hidden": false
        },
        "nteract": {
          "transient": {
            "deleting": false
          }
        },
        "gather": {
          "logged": 1614961175038
        }
      }
    }
  ],
  "metadata": {
    "kernelspec": {
      "name": "python3-azureml",
      "language": "python",
      "display_name": "Python 3.6 - AzureML"
    },
    "language_info": {
      "name": "python",
      "version": "3.6.9",
      "mimetype": "text/x-python",
      "codemirror_mode": {
        "name": "ipython",
        "version": 3
      },
      "pygments_lexer": "ipython3",
      "nbconvert_exporter": "python",
      "file_extension": ".py"
    },
    "kernel_info": {
      "name": "python3-azureml"
    },
    "microsoft": {
      "host": {
        "AzureML": {
          "notebookHasBeenCompleted": true
        }
      }
    },
    "nteract": {
      "version": "nteract-front-end@1.0.0"
    }
  },
  "nbformat": 4,
  "nbformat_minor": 2
}